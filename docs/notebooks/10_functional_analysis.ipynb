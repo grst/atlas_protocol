{
 "cells": [
  {
   "cell_type": "markdown",
   "id": "abc28ef4-cf77-4b99-8f87-08b3242b143b",
   "metadata": {},
   "source": [
    "# Functional analysis: progeny / dorothea"
   ]
  },
  {
   "cell_type": "code",
   "execution_count": 1,
   "id": "04c4bd3a-7ad1-4ce4-b6c8-a9579086540a",
   "metadata": {},
   "outputs": [],
   "source": [
    "%load_ext autoreload\n",
    "%autoreload 2"
   ]
  },
  {
   "cell_type": "code",
   "execution_count": 2,
   "id": "a119a2c4-8e7e-4fe3-991a-409656f62a97",
   "metadata": {},
   "outputs": [],
   "source": [
    "import scanpy as sc\n",
    "import atlas_protocol_scripts as aps\n",
    "import matplotlib.pyplot as plt\n",
    "import pandas as pd\n",
    "import altair as alt\n",
    "import decoupler as dc\n",
    "import itertools\n",
    "from pathlib import Path\n",
    "import numpy as np\n",
    "import seaborn as sns\n",
    "import urllib.request\n",
    "\n",
    "from threadpoolctl import threadpool_limits\n",
    "import multiprocessing\n",
    "\n",
    "import os\n",
    "\n",
    "# set PATH env variable to conda env for altair_saver which is looking for npm\n",
    "os.environ[\"PATH\"] = os.path.dirname(os.environ[\"_\"]) + os.pathsep + os.environ[\"PATH\"]\n",
    "\n",
    "cpus = 16\n",
    "os.environ[\"NUMBA_NUM_THREADS\"] = str(cpus)\n",
    "threadpool_limits(cpus)\n",
    "\n",
    "\n",
    "import warnings\n",
    "warnings.simplefilter(action='ignore', category=FutureWarning)\n",
    "warnings.filterwarnings(\"ignore\", category=DeprecationWarning) \n"
   ]
  },
  {
   "cell_type": "markdown",
   "id": "f2201406-2844-46f9-bfec-c4c6ac7b5536",
   "metadata": {},
   "source": [
    "## Configure paths"
   ]
  },
  {
   "cell_type": "code",
   "execution_count": 3,
   "id": "dbd8b4aa-ca82-4526-b66f-4b1a707a1d02",
   "metadata": {},
   "outputs": [],
   "source": [
    "adata_path = \"../../data/input_data_zenodo/atlas-integrated-annotated.h5ad\"\n",
    "results_dir = \"../../results/10_functional_analysis\"\n",
    "\n",
    "tfnet_file = Path(results_dir, \"tf_net_dorothea_hs.tsv\")\n",
    "pwnet_file = Path(results_dir, \"pw_net_progeny_hs.tsv\")\n",
    "\n"
   ]
  },
  {
   "cell_type": "markdown",
   "id": "74fdce69-42c5-4306-aef5-78de07d0c082",
   "metadata": {},
   "source": [
    "Create results directory"
   ]
  },
  {
   "cell_type": "code",
   "execution_count": 4,
   "id": "bbeb597a-efcc-48da-87b0-36d46010c710",
   "metadata": {},
   "outputs": [],
   "source": [
    "os.makedirs(results_dir, mode = 0o750, exist_ok = True)"
   ]
  },
  {
   "cell_type": "markdown",
   "id": "21d92c5a-8851-4960-8361-b039aabcc16b",
   "metadata": {},
   "source": [
    "## Load data"
   ]
  },
  {
   "cell_type": "code",
   "execution_count": 5,
   "id": "0fc4517d-efd9-493a-ae71-86b7ba8501e1",
   "metadata": {},
   "outputs": [],
   "source": [
    "adata = sc.read_h5ad(adata_path)"
   ]
  },
  {
   "cell_type": "code",
   "execution_count": null,
   "id": "fc8db0f3-06b4-4bc5-92f4-02d3f6c051a7",
   "metadata": {},
   "outputs": [],
   "source": [
    "if Path(tfnet_file).exists():\n",
    "    tfnet = pd.read_csv(tfnet_file, sep=\"\\t\")\n",
    "else:\n",
    "    tfnet = dc.get_dorothea(organism='human', levels=['A','B','C'])\n",
    "    tfnet.to_csv(tfnet_file, sep=\"\\t\", index=False)"
   ]
  },
  {
   "cell_type": "code",
   "execution_count": null,
   "id": "b5c49f1c-3ff4-40e4-aa71-e2d68526930d",
   "metadata": {},
   "outputs": [],
   "source": [
    "if Path(pwnet_file).exists():\n",
    "    pwnet = pd.read_csv(pwnet_file, sep=\"\\t\")\n",
    "else:\n",
    "    pwnet = dc.get_progeny(organism='mouse', top=100)\n",
    "    pwnet.to_csv(pwnet_file, sep=\"\\t\", index=False)"
   ]
  }
 ],
 "metadata": {
  "kernelspec": {
   "display_name": "SSH apollo-15 apollo-15: mmCD45",
   "language": "",
   "name": "rik_ssh_apollo_15_apollo15mmcd45"
  },
  "language_info": {
   "codemirror_mode": {
    "name": "ipython",
    "version": 3
   },
   "file_extension": ".py",
   "mimetype": "text/x-python",
   "name": "python",
   "nbconvert_exporter": "python",
   "pygments_lexer": "ipython3",
   "version": "3.10.8"
  }
 },
 "nbformat": 4,
 "nbformat_minor": 5
}
