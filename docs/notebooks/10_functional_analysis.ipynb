{
 "cells": [
  {
   "cell_type": "markdown",
   "id": "abc28ef4-cf77-4b99-8f87-08b3242b143b",
   "metadata": {},
   "source": [
    "# Functional analysis: progeny / dorothea"
   ]
  },
  {
   "cell_type": "code",
   "execution_count": 1,
   "id": "04c4bd3a-7ad1-4ce4-b6c8-a9579086540a",
   "metadata": {},
   "outputs": [],
   "source": [
    "%load_ext autoreload\n",
    "%autoreload 2"
   ]
  },
  {
   "cell_type": "code",
   "execution_count": null,
   "id": "a119a2c4-8e7e-4fe3-991a-409656f62a97",
   "metadata": {},
   "outputs": [],
   "source": [
    "import scanpy as sc\n",
    "import lib.plot_utils as pu\n",
    "import matplotlib.pyplot as plt\n",
    "import pandas as pd\n",
    "import altair as alt\n",
    "import decoupler as dc\n",
    "import itertools\n",
    "from pathlib import Path\n",
    "import numpy as np\n",
    "import seaborn as sns\n",
    "import urllib.request\n",
    "\n",
    "from threadpoolctl import threadpool_limits\n",
    "import multiprocessing\n",
    "\n",
    "import os\n",
    "\n",
    "# set PATH env variable to conda env for altair_saver which is looking for npm\n",
    "os.environ[\"PATH\"] = os.path.dirname(os.environ[\"_\"]) + os.pathsep + os.environ[\"PATH\"]\n",
    "\n",
    "cpus = 16\n",
    "os.environ[\"NUMBA_NUM_THREADS\"] = str(cpus)\n",
    "threadpool_limits(cpus)\n",
    "\n",
    "\n",
    "import warnings\n",
    "warnings.simplefilter(action='ignore', category=FutureWarning)\n",
    "warnings.filterwarnings(\"ignore\", category=DeprecationWarning) \n"
   ]
  }
 ],
 "metadata": {
  "kernelspec": {
   "display_name": "SSH apollo-15 apollo-15: mmCD45",
   "language": "",
   "name": "rik_ssh_apollo_15_apollo15mmcd45"
  },
  "language_info": {
   "codemirror_mode": {
    "name": "ipython",
    "version": 3
   },
   "file_extension": ".py",
   "mimetype": "text/x-python",
   "name": "python",
   "nbconvert_exporter": "python",
   "pygments_lexer": "ipython3",
   "version": "3.10.8"
  }
 },
 "nbformat": 4,
 "nbformat_minor": 5
}
