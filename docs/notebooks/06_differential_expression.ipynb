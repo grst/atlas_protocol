{
 "cells": [
  {
   "cell_type": "markdown",
   "id": "07fb6109-7a52-4379-8655-9d2d2f3a7388",
   "metadata": {},
   "source": [
    "# Differential gene expression analysis per cell-type between conditions"
   ]
  },
  {
   "cell_type": "code",
   "execution_count": null,
   "id": "1d7ed24b-b3de-4468-8634-9486c7ad3c77",
   "metadata": {},
   "outputs": [],
   "source": [
    "#Load libraries\n",
    "import pandas as pd\n",
    "import numpy as np\n",
    "import scanpy as sc\n",
    "import decoupler as dc\n",
    "import biomart \n",
    "import os\n"
   ]
  },
  {
   "cell_type": "code",
   "execution_count": null,
   "id": "6a3a28e3-e1df-4aa4-b181-59c6b12e7e22",
   "metadata": {},
   "outputs": [],
   "source": [
    "#Load data\n",
    "input_adata = \"/data/projects/2023/atlas_protocol/input_data_zenodo/atlas-integrated-annotated.h5ad\"\n",
    "adata = sc.read_h5ad(input_adata)"
   ]
  },
  {
   "cell_type": "code",
   "execution_count": null,
   "id": "6fdbb1a3-394e-4cdf-b2dd-eecaa0065fa9",
   "metadata": {},
   "outputs": [],
   "source": [
    "#Processing\n",
    "# Gene symbols required \n",
    "adata.var.head()"
   ]
  },
  {
   "cell_type": "code",
   "execution_count": null,
   "id": "891d64be-76b7-4126-9f6a-225f860b6d47",
   "metadata": {},
   "outputs": [],
   "source": [
    "# All cells are annotated \n",
    "adata.obs[\"cell_type\"].isnull().value_counts()"
   ]
  },
  {
   "cell_type": "code",
   "execution_count": null,
   "id": "312ee223-a76c-4a48-aa63-7e669dbf1604",
   "metadata": {},
   "outputs": [],
   "source": [
    "adata = adata[adata.obs[\"origin\"] == \"tumor_primary\"]\n",
    "adata = adata[adata.obs[\"condition\"].isin([\"LUAD\", \"LUSC\"])]"
   ]
  },
  {
   "cell_type": "code",
   "execution_count": null,
   "id": "e0fd62ff-e78b-4ecc-8d5b-61e6de75d249",
   "metadata": {},
   "outputs": [],
   "source": [
    "# Compute distances in the PCA space, and find cell neighbors\n",
    "sc.pp.neighbors(adata,use_rep=\"X_scANVI\")"
   ]
  },
  {
   "cell_type": "code",
   "execution_count": null,
   "id": "cb6a8345-42be-419e-bc2c-b32e33e6e5d0",
   "metadata": {},
   "outputs": [],
   "source": [
    "# Generate UMAP features\n",
    "sc.tl.umap(adata, init_pos = \"X_umap\")\n",
    "# Visualize\n",
    "sc.pl.umap(adata, color=['cell_type'], frameon=False)"
   ]
  },
  {
   "cell_type": "code",
   "execution_count": null,
   "id": "18e9bded-57f9-413d-bf82-e2925be12388",
   "metadata": {},
   "outputs": [],
   "source": [
    "# Get pseudo-bulk profile\n",
    "pdata = dc.get_pseudobulk(adata,\n",
    "                          sample_col='patient',\n",
    "                          groups_col='cell_type',\n",
    "                          layer='raw_counts',\n",
    "                          mode='sum',\n",
    "                          min_cells=10,\n",
    "                          min_counts=1000\n",
    "                         )\n",
    "pdata"
   ]
  },
  {
   "cell_type": "code",
   "execution_count": null,
   "id": "a04118fd-5533-4ecc-a539-ffd41bf1a113",
   "metadata": {},
   "outputs": [],
   "source": [
    "cell_type_name = \"Tumor cells\" # e.g Tumor cells\n",
    "pdata_cell = pdata[(pdata.obs[\"cell_type\"] == cell_type_name)]"
   ]
  },
  {
   "cell_type": "code",
   "execution_count": null,
   "id": "39c5748b-f4b5-4cf4-bac7-87dfe2335d19",
   "metadata": {},
   "outputs": [],
   "source": [
    "# Create counts \n",
    "patient = pdata_cell.obs[\"patient\"] #patient id\n",
    "gene_symbol = pdata_cell.var.index #gene id as index\n",
    "counts_df  = pd.DataFrame(data = pdata_cell.X, columns = gene_symbol, index =patient) #counts dataframe\n",
    "counts_df.index.name = None\n",
    "counts_df = counts_df.T\n",
    "\n",
    "resDir = '/data/projects/2023/atlas_protocol/results/differential_expression/'\n",
    "cell_type_name = cell_type_name.replace(\" \",\"\")\n",
    "filename_co = f\"{cell_type_name}_counts.tsv\"\n",
    "file_path = os.path.join(resDir, filename_co)\n",
    "counts_df.to_csv(file_path,sep = \"\\t\",index = True)\n"
   ]
  },
  {
   "cell_type": "code",
   "execution_count": null,
   "id": "c817b52d-d84f-44f4-a260-a819fbbc9fd0",
   "metadata": {},
   "outputs": [],
   "source": [
    "covariates = ['sex', 'ever_smoker', 'condition', 'age','tumor_stage', 'study', 'platform']\n",
    "samplesheet_df = pdata_cell.obs.loc[:,covariates] # More columns can be added to be further used as covariates\n",
    "samplesheet_df[\"sample\"] = samplesheet_df.index\n",
    "\n",
    "samplesheet_df.rename(columns = {\"condition\":\"group\"}, inplace = True) # Rename columns\n",
    "\n",
    "filename_co = f\"{cell_type_name}_samplesheet.csv\"\n",
    "file_path = os.path.join(resDir, filename_co)\n",
    "samplesheet_df.to_csv(file_path,sep = \",\",index = False)\n"
   ]
  },
  {
   "cell_type": "code",
   "execution_count": null,
   "id": "1aaf78b9-efef-45f6-980b-9b9789df1055",
   "metadata": {},
   "outputs": [],
   "source": [
    "#!./deseq2.R --input whaterver.csv"
   ]
  },
  {
   "cell_type": "code",
   "execution_count": null,
   "id": "f61b2780-7061-4e04-b18a-8b32a0565d89",
   "metadata": {},
   "outputs": [],
   "source": []
  }
 ],
 "metadata": {
  "kernelspec": {
   "display_name": "Python [conda env:.conda-2022-default-scanpy]",
   "language": "python",
   "name": "conda-env-.conda-2022-default-scanpy-py"
  },
  "language_info": {
   "codemirror_mode": {
    "name": "ipython",
    "version": 3
   },
   "file_extension": ".py",
   "mimetype": "text/x-python",
   "name": "python",
   "nbconvert_exporter": "python",
   "pygments_lexer": "ipython3",
   "version": "3.10.8"
  }
 },
 "nbformat": 4,
 "nbformat_minor": 5
}
