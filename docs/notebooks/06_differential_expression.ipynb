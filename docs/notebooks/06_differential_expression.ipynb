{
 "cells": [
  {
   "cell_type": "markdown",
   "id": "07fb6109-7a52-4379-8655-9d2d2f3a7388",
   "metadata": {
    "tags": []
   },
   "source": [
    "# Differential gene expression analysis per cell-type between conditions"
   ]
  },
  {
   "cell_type": "code",
   "execution_count": 6,
   "id": "5580a3c8-c63a-414e-aadf-252c4fdadd9c",
   "metadata": {},
   "outputs": [],
   "source": [
    "import pandas as pd\n",
    "import numpy as np\n",
    "import os\n",
    "import subprocess as sp\n",
    "import decoupler as dc\n",
    "import scanpy as sc\n"
   ]
  },
  {
   "cell_type": "code",
   "execution_count": 7,
   "id": "f2d2bf71-3581-489f-bd39-2c24293a1071",
   "metadata": {},
   "outputs": [],
   "source": [
    "path_to_R = \"/usr/local/bioinf/R/R-4.2.3/bin/\""
   ]
  },
  {
   "cell_type": "code",
   "execution_count": 8,
   "id": "87ecbe27-5961-4c99-9ba6-709513d03801",
   "metadata": {},
   "outputs": [],
   "source": [
    "os.environ[\"PATH\"] = path_to_R + os.pathsep + os.environ[\"PATH\"]\n",
    "# os.environ[\"PATH\"]\n"
   ]
  },
  {
   "cell_type": "code",
   "execution_count": 9,
   "id": "6a3a28e3-e1df-4aa4-b181-59c6b12e7e22",
   "metadata": {},
   "outputs": [],
   "source": [
    "#Load data\n",
    "input_adata = \"/data/projects/2023/atlas_protocol/input_data_zenodo/atlas-integrated-annotated.h5ad\"\n",
    "adata = sc.read_h5ad(input_adata)"
   ]
  },
  {
   "cell_type": "code",
   "execution_count": 10,
   "id": "6fdbb1a3-394e-4cdf-b2dd-eecaa0065fa9",
   "metadata": {},
   "outputs": [],
   "source": [
    "#Processing\n",
    "# Gene symbols required \n",
    "#adata.var.head()\n",
    "# All cells are annotated \n",
    "#adata.obs[\"cell_type\"].isnull().value_counts()\n",
    "#adata.obs[\"cell_type_coarse\"].unique()"
   ]
  },
  {
   "cell_type": "code",
   "execution_count": 19,
   "id": "312ee223-a76c-4a48-aa63-7e669dbf1604",
   "metadata": {},
   "outputs": [],
   "source": [
    "adata = adata[adata.obs[\"origin\"].isin([\"tumor_primary\"])]\n",
    "adata = adata[adata.obs[\"condition\"].isin([\"LUAD\", \"LUSC\"])]\n",
    "cell_type = list(adata.obs[\"cell_type_coarse\"].unique())"
   ]
  },
  {
   "cell_type": "code",
   "execution_count": 20,
   "id": "7313231c-4d78-4cb5-9c2d-6e5ab19aad81",
   "metadata": {},
   "outputs": [],
   "source": [
    "adata_dict = {}\n",
    "for name in cell_type:\n",
    "    name_ad = name.replace(\" \",\"_\")\n",
    "    adata_name = f\"{name_ad}_adata\"\n",
    "    adata_dict[adata_name] = adata[adata.obs[\"cell_type_coarse\"].isin([name])]"
   ]
  },
  {
   "cell_type": "code",
   "execution_count": 21,
   "id": "e0fd62ff-e78b-4ecc-8d5b-61e6de75d249",
   "metadata": {},
   "outputs": [],
   "source": [
    "# Compute distances in the PCA space, and find cell neighbors\n",
    "#sc.pp.neighbors(adata,use_rep=\"X_scANVI\")"
   ]
  },
  {
   "cell_type": "code",
   "execution_count": 22,
   "id": "f689a8cb-59c8-4ac6-b6c2-587fe824ba2a",
   "metadata": {},
   "outputs": [],
   "source": [
    "\n",
    "deseq = \"../../bin/deseq2.R\"\n",
    "deseq_results = \"/data/projects/2023/atlas_protocol/results/differential_expression/deseq_resdir\"\n",
    "result_dir = deseq_results\n",
    "#result_dir = \"/data/projects/2023/atlas_protocol/results/differential_expression/cell_type\"\n",
    "cpus = 6"
   ]
  },
  {
   "cell_type": "code",
   "execution_count": 23,
   "id": "245fa85b-7034-4367-8f5e-fb1317a99f7b",
   "metadata": {},
   "outputs": [],
   "source": [
    "def run_deseq(count_table, sample_sheet, deseq_prefix, contrast, deseq_resdir):\n",
    "    os.makedirs(deseq_resdir, exist_ok = True)\n",
    "    \n",
    "    deseq_cmd = [deseq, count_table, sample_sheet,\n",
    "                 \"--cond_col\", \"condition\",\n",
    "                 \"--c1\", contrast[0],\n",
    "                 \"--c2\", contrast[1], \n",
    "                 \"--resDir\", deseq_resdir, \n",
    "                 \"--prefix\", deseq_prefix, \n",
    "                 \"--cpus\", str(cpus), \n",
    "                 \"--save_workspace\"]\n",
    "    \n",
    "    stdout = open(deseq_resdir + \"/\" + deseq_prefix + \".log\", 'w')\n",
    "    stderr = open(deseq_resdir + \"/\" + deseq_prefix + \".err\", 'w')\n",
    "    sp.run(deseq_cmd, capture_output=False, stdout=stdout, stderr=stderr)\n",
    "    stdout.close()\n",
    "    stderr.close()"
   ]
  },
  {
   "cell_type": "code",
   "execution_count": 24,
   "id": "2869baf8-4fe9-4bf3-bb3c-15c5a57be17c",
   "metadata": {},
   "outputs": [],
   "source": [
    "def save_pseudobulk(pb, samplesheet_filename, counts_filename):\n",
    "    samplesheet = pb.obs.copy()\n",
    "    samplesheet.reset_index(inplace=True)\n",
    "    sample_ids_repl = fix_sample_ids(pb)\n",
    "    bulk_df = pb.to_df().T.rename(columns=sample_ids_repl)\n",
    "    bulk_df = pb.to_df().T\n",
    "    bulk_df.index.name = \"gene_id\"\n",
    "    samplesheet.to_csv(samplesheet_filename)\n",
    "    bulk_df.to_csv(counts_filename)"
   ]
  },
  {
   "cell_type": "code",
   "execution_count": 25,
   "id": "7514f8d7-a193-4652-a776-1969e48c7177",
   "metadata": {},
   "outputs": [],
   "source": [
    "def fix_sample_ids(pb):\n",
    "    repl = {}\n",
    "    for k,v in dict(zip(pb.obs[\"condition\"].index, \"_\"+pb.obs[\"condition\"].values)).items():\n",
    "        repl[k] = k.replace(v,\"\")\n",
    "\n",
    "    return(repl)"
   ]
  },
  {
   "cell_type": "code",
   "execution_count": 29,
   "id": "15f83b2c-3d7b-4e92-9495-1fa9a6de59e6",
   "metadata": {},
   "outputs": [
    {
     "ename": "KeyboardInterrupt",
     "evalue": "",
     "output_type": "error",
     "traceback": [
      "\u001b[0;31m---------------------------------------------------------------------------\u001b[0m",
      "\u001b[0;31mKeyboardInterrupt\u001b[0m                         Traceback (most recent call last)",
      "Cell \u001b[0;32mIn[29], line 30\u001b[0m\n\u001b[1;32m     27\u001b[0m count_table \u001b[38;5;241m=\u001b[39m \u001b[38;5;124mf\u001b[39m\u001b[38;5;124m\"\u001b[39m\u001b[38;5;132;01m{\u001b[39;00mresult_dir\u001b[38;5;132;01m}\u001b[39;00m\u001b[38;5;124m/\u001b[39m\u001b[38;5;132;01m{\u001b[39;00mdeseq_prefix\u001b[38;5;132;01m}\u001b[39;00m\u001b[38;5;124m.counts.csv\u001b[39m\u001b[38;5;124m\"\u001b[39m\n\u001b[1;32m     29\u001b[0m save_pseudobulk(pb, sample_sheet, count_table)\n\u001b[0;32m---> 30\u001b[0m \u001b[43mrun_deseq\u001b[49m\u001b[43m(\u001b[49m\u001b[43mcount_table\u001b[49m\u001b[43m,\u001b[49m\u001b[43m \u001b[49m\u001b[43msample_sheet\u001b[49m\u001b[43m,\u001b[49m\u001b[43m \u001b[49m\u001b[43mdeseq_prefix\u001b[49m\u001b[43m,\u001b[49m\u001b[43m \u001b[49m\u001b[43mcontrast\u001b[49m\u001b[43m,\u001b[49m\u001b[43m \u001b[49m\u001b[43mdeseq_resdir\u001b[49m\u001b[43m)\u001b[49m\n",
      "Cell \u001b[0;32mIn[23], line 15\u001b[0m, in \u001b[0;36mrun_deseq\u001b[0;34m(count_table, sample_sheet, deseq_prefix, contrast, deseq_resdir)\u001b[0m\n\u001b[1;32m     13\u001b[0m stdout \u001b[38;5;241m=\u001b[39m \u001b[38;5;28mopen\u001b[39m(deseq_resdir \u001b[38;5;241m+\u001b[39m \u001b[38;5;124m\"\u001b[39m\u001b[38;5;124m/\u001b[39m\u001b[38;5;124m\"\u001b[39m \u001b[38;5;241m+\u001b[39m deseq_prefix \u001b[38;5;241m+\u001b[39m \u001b[38;5;124m\"\u001b[39m\u001b[38;5;124m.log\u001b[39m\u001b[38;5;124m\"\u001b[39m, \u001b[38;5;124m'\u001b[39m\u001b[38;5;124mw\u001b[39m\u001b[38;5;124m'\u001b[39m)\n\u001b[1;32m     14\u001b[0m stderr \u001b[38;5;241m=\u001b[39m \u001b[38;5;28mopen\u001b[39m(deseq_resdir \u001b[38;5;241m+\u001b[39m \u001b[38;5;124m\"\u001b[39m\u001b[38;5;124m/\u001b[39m\u001b[38;5;124m\"\u001b[39m \u001b[38;5;241m+\u001b[39m deseq_prefix \u001b[38;5;241m+\u001b[39m \u001b[38;5;124m\"\u001b[39m\u001b[38;5;124m.err\u001b[39m\u001b[38;5;124m\"\u001b[39m, \u001b[38;5;124m'\u001b[39m\u001b[38;5;124mw\u001b[39m\u001b[38;5;124m'\u001b[39m)\n\u001b[0;32m---> 15\u001b[0m \u001b[43msp\u001b[49m\u001b[38;5;241;43m.\u001b[39;49m\u001b[43mrun\u001b[49m\u001b[43m(\u001b[49m\u001b[43mdeseq_cmd\u001b[49m\u001b[43m,\u001b[49m\u001b[43m \u001b[49m\u001b[43mcapture_output\u001b[49m\u001b[38;5;241;43m=\u001b[39;49m\u001b[38;5;28;43;01mFalse\u001b[39;49;00m\u001b[43m,\u001b[49m\u001b[43m \u001b[49m\u001b[43mstdout\u001b[49m\u001b[38;5;241;43m=\u001b[39;49m\u001b[43mstdout\u001b[49m\u001b[43m,\u001b[49m\u001b[43m \u001b[49m\u001b[43mstderr\u001b[49m\u001b[38;5;241;43m=\u001b[39;49m\u001b[43mstderr\u001b[49m\u001b[43m)\u001b[49m\n\u001b[1;32m     16\u001b[0m stdout\u001b[38;5;241m.\u001b[39mclose()\n\u001b[1;32m     17\u001b[0m stderr\u001b[38;5;241m.\u001b[39mclose()\n",
      "File \u001b[0;32m~/.conda/envs/atlas_protocol_23/lib/python3.9/subprocess.py:507\u001b[0m, in \u001b[0;36mrun\u001b[0;34m(input, capture_output, timeout, check, *popenargs, **kwargs)\u001b[0m\n\u001b[1;32m    505\u001b[0m \u001b[38;5;28;01mwith\u001b[39;00m Popen(\u001b[38;5;241m*\u001b[39mpopenargs, \u001b[38;5;241m*\u001b[39m\u001b[38;5;241m*\u001b[39mkwargs) \u001b[38;5;28;01mas\u001b[39;00m process:\n\u001b[1;32m    506\u001b[0m     \u001b[38;5;28;01mtry\u001b[39;00m:\n\u001b[0;32m--> 507\u001b[0m         stdout, stderr \u001b[38;5;241m=\u001b[39m \u001b[43mprocess\u001b[49m\u001b[38;5;241;43m.\u001b[39;49m\u001b[43mcommunicate\u001b[49m\u001b[43m(\u001b[49m\u001b[38;5;28;43minput\u001b[39;49m\u001b[43m,\u001b[49m\u001b[43m \u001b[49m\u001b[43mtimeout\u001b[49m\u001b[38;5;241;43m=\u001b[39;49m\u001b[43mtimeout\u001b[49m\u001b[43m)\u001b[49m\n\u001b[1;32m    508\u001b[0m     \u001b[38;5;28;01mexcept\u001b[39;00m TimeoutExpired \u001b[38;5;28;01mas\u001b[39;00m exc:\n\u001b[1;32m    509\u001b[0m         process\u001b[38;5;241m.\u001b[39mkill()\n",
      "File \u001b[0;32m~/.conda/envs/atlas_protocol_23/lib/python3.9/subprocess.py:1126\u001b[0m, in \u001b[0;36mPopen.communicate\u001b[0;34m(self, input, timeout)\u001b[0m\n\u001b[1;32m   1124\u001b[0m         stderr \u001b[38;5;241m=\u001b[39m \u001b[38;5;28mself\u001b[39m\u001b[38;5;241m.\u001b[39mstderr\u001b[38;5;241m.\u001b[39mread()\n\u001b[1;32m   1125\u001b[0m         \u001b[38;5;28mself\u001b[39m\u001b[38;5;241m.\u001b[39mstderr\u001b[38;5;241m.\u001b[39mclose()\n\u001b[0;32m-> 1126\u001b[0m     \u001b[38;5;28;43mself\u001b[39;49m\u001b[38;5;241;43m.\u001b[39;49m\u001b[43mwait\u001b[49m\u001b[43m(\u001b[49m\u001b[43m)\u001b[49m\n\u001b[1;32m   1127\u001b[0m \u001b[38;5;28;01melse\u001b[39;00m:\n\u001b[1;32m   1128\u001b[0m     \u001b[38;5;28;01mif\u001b[39;00m timeout \u001b[38;5;129;01mis\u001b[39;00m \u001b[38;5;129;01mnot\u001b[39;00m \u001b[38;5;28;01mNone\u001b[39;00m:\n",
      "File \u001b[0;32m~/.conda/envs/atlas_protocol_23/lib/python3.9/subprocess.py:1189\u001b[0m, in \u001b[0;36mPopen.wait\u001b[0;34m(self, timeout)\u001b[0m\n\u001b[1;32m   1187\u001b[0m     endtime \u001b[38;5;241m=\u001b[39m _time() \u001b[38;5;241m+\u001b[39m timeout\n\u001b[1;32m   1188\u001b[0m \u001b[38;5;28;01mtry\u001b[39;00m:\n\u001b[0;32m-> 1189\u001b[0m     \u001b[38;5;28;01mreturn\u001b[39;00m \u001b[38;5;28;43mself\u001b[39;49m\u001b[38;5;241;43m.\u001b[39;49m\u001b[43m_wait\u001b[49m\u001b[43m(\u001b[49m\u001b[43mtimeout\u001b[49m\u001b[38;5;241;43m=\u001b[39;49m\u001b[43mtimeout\u001b[49m\u001b[43m)\u001b[49m\n\u001b[1;32m   1190\u001b[0m \u001b[38;5;28;01mexcept\u001b[39;00m \u001b[38;5;167;01mKeyboardInterrupt\u001b[39;00m:\n\u001b[1;32m   1191\u001b[0m     \u001b[38;5;66;03m# https://bugs.python.org/issue25942\u001b[39;00m\n\u001b[1;32m   1192\u001b[0m     \u001b[38;5;66;03m# The first keyboard interrupt waits briefly for the child to\u001b[39;00m\n\u001b[1;32m   1193\u001b[0m     \u001b[38;5;66;03m# exit under the common assumption that it also received the ^C\u001b[39;00m\n\u001b[1;32m   1194\u001b[0m     \u001b[38;5;66;03m# generated SIGINT and will exit rapidly.\u001b[39;00m\n\u001b[1;32m   1195\u001b[0m     \u001b[38;5;28;01mif\u001b[39;00m timeout \u001b[38;5;129;01mis\u001b[39;00m \u001b[38;5;129;01mnot\u001b[39;00m \u001b[38;5;28;01mNone\u001b[39;00m:\n",
      "File \u001b[0;32m~/.conda/envs/atlas_protocol_23/lib/python3.9/subprocess.py:1917\u001b[0m, in \u001b[0;36mPopen._wait\u001b[0;34m(self, timeout)\u001b[0m\n\u001b[1;32m   1915\u001b[0m \u001b[38;5;28;01mif\u001b[39;00m \u001b[38;5;28mself\u001b[39m\u001b[38;5;241m.\u001b[39mreturncode \u001b[38;5;129;01mis\u001b[39;00m \u001b[38;5;129;01mnot\u001b[39;00m \u001b[38;5;28;01mNone\u001b[39;00m:\n\u001b[1;32m   1916\u001b[0m     \u001b[38;5;28;01mbreak\u001b[39;00m  \u001b[38;5;66;03m# Another thread waited.\u001b[39;00m\n\u001b[0;32m-> 1917\u001b[0m (pid, sts) \u001b[38;5;241m=\u001b[39m \u001b[38;5;28;43mself\u001b[39;49m\u001b[38;5;241;43m.\u001b[39;49m\u001b[43m_try_wait\u001b[49m\u001b[43m(\u001b[49m\u001b[38;5;241;43m0\u001b[39;49m\u001b[43m)\u001b[49m\n\u001b[1;32m   1918\u001b[0m \u001b[38;5;66;03m# Check the pid and loop as waitpid has been known to\u001b[39;00m\n\u001b[1;32m   1919\u001b[0m \u001b[38;5;66;03m# return 0 even without WNOHANG in odd situations.\u001b[39;00m\n\u001b[1;32m   1920\u001b[0m \u001b[38;5;66;03m# http://bugs.python.org/issue14396.\u001b[39;00m\n\u001b[1;32m   1921\u001b[0m \u001b[38;5;28;01mif\u001b[39;00m pid \u001b[38;5;241m==\u001b[39m \u001b[38;5;28mself\u001b[39m\u001b[38;5;241m.\u001b[39mpid:\n",
      "File \u001b[0;32m~/.conda/envs/atlas_protocol_23/lib/python3.9/subprocess.py:1875\u001b[0m, in \u001b[0;36mPopen._try_wait\u001b[0;34m(self, wait_flags)\u001b[0m\n\u001b[1;32m   1873\u001b[0m \u001b[38;5;250m\u001b[39m\u001b[38;5;124;03m\"\"\"All callers to this function MUST hold self._waitpid_lock.\"\"\"\u001b[39;00m\n\u001b[1;32m   1874\u001b[0m \u001b[38;5;28;01mtry\u001b[39;00m:\n\u001b[0;32m-> 1875\u001b[0m     (pid, sts) \u001b[38;5;241m=\u001b[39m \u001b[43mos\u001b[49m\u001b[38;5;241;43m.\u001b[39;49m\u001b[43mwaitpid\u001b[49m\u001b[43m(\u001b[49m\u001b[38;5;28;43mself\u001b[39;49m\u001b[38;5;241;43m.\u001b[39;49m\u001b[43mpid\u001b[49m\u001b[43m,\u001b[49m\u001b[43m \u001b[49m\u001b[43mwait_flags\u001b[49m\u001b[43m)\u001b[49m\n\u001b[1;32m   1876\u001b[0m \u001b[38;5;28;01mexcept\u001b[39;00m \u001b[38;5;167;01mChildProcessError\u001b[39;00m:\n\u001b[1;32m   1877\u001b[0m     \u001b[38;5;66;03m# This happens if SIGCLD is set to be ignored or waiting\u001b[39;00m\n\u001b[1;32m   1878\u001b[0m     \u001b[38;5;66;03m# for child processes has otherwise been disabled for our\u001b[39;00m\n\u001b[1;32m   1879\u001b[0m     \u001b[38;5;66;03m# process.  This child is dead, we can't get the status.\u001b[39;00m\n\u001b[1;32m   1880\u001b[0m     pid \u001b[38;5;241m=\u001b[39m \u001b[38;5;28mself\u001b[39m\u001b[38;5;241m.\u001b[39mpid\n",
      "\u001b[0;31mKeyboardInterrupt\u001b[0m: "
     ]
    }
   ],
   "source": [
    "for ct ,tmp_ad in adata_dict.items():    \n",
    "    pb = dc.get_pseudobulk(\n",
    "        tmp_ad,\n",
    "        sample_col='sample',\n",
    "        groups_col='condition',\n",
    "        layer='raw_counts',\n",
    "        mode='sum',\n",
    "        min_prop=0.05,\n",
    "        min_cells=10,\n",
    "        min_counts=1000,\n",
    "        min_smpls=2\n",
    "    )\n",
    "    if pb.obs[\"condition\"].nunique() <= 1:\n",
    "        print(f\"Cell type {ct} does not have enough replicates per group\")\n",
    "    else:\n",
    "        contrast = [\"LUSC\", \"LUAD\"]\n",
    "        contrast_str = f\"{contrast[0]}_vs_{contrast[1]}\"\n",
    "        deseq_resdir = f\"{deseq_results}/{contrast_str}\"\n",
    "\n",
    "        ct = ct.replace(\" \", \"_\")\n",
    "        ct_fname = ct.replace(\"/\", \"_\")\n",
    "        deseq_prefix = f\"{contrast_str}_{ct_fname}\"\n",
    "        \n",
    "        \n",
    "        \n",
    "        sample_sheet = f\"{result_dir}/{deseq_prefix}.samplesheet.csv\"\n",
    "        count_table = f\"{result_dir}/{deseq_prefix}.counts.csv\"\n",
    "\n",
    "        save_pseudobulk(pb, sample_sheet, count_table)\n",
    "        run_deseq(count_table, sample_sheet, deseq_prefix, contrast, deseq_resdir)\n",
    "    "
   ]
  }
 ],
 "metadata": {
  "kernelspec": {
   "display_name": "Python [conda env:.conda-atlas_protocol_23]",
   "language": "python",
   "name": "conda-env-.conda-atlas_protocol_23-py"
  },
  "language_info": {
   "codemirror_mode": {
    "name": "ipython",
    "version": 3
   },
   "file_extension": ".py",
   "mimetype": "text/x-python",
   "name": "python",
   "nbconvert_exporter": "python",
   "pygments_lexer": "ipython3",
   "version": "3.9.16"
  }
 },
 "nbformat": 4,
 "nbformat_minor": 5
}
